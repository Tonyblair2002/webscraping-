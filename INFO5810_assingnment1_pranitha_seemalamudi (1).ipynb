{
  "nbformat": 4,
  "nbformat_minor": 0,
  "metadata": {
    "colab": {
      "provenance": []
    },
    "kernelspec": {
      "name": "python3",
      "display_name": "Python 3"
    },
    "language_info": {
      "name": "python"
    }
  },
  "cells": [
    {
      "cell_type": "code",
      "execution_count": null,
      "metadata": {
        "colab": {
          "base_uri": "https://localhost:8080/"
        },
        "id": "ghqwMYjVv_0Z",
        "outputId": "396c1ea1-cd1c-421f-b2ef-71e324abb02d"
      },
      "outputs": [
        {
          "output_type": "stream",
          "name": "stdout",
          "text": [
            "Requirement already satisfied: requests in /usr/local/lib/python3.10/dist-packages (2.32.3)\n",
            "Requirement already satisfied: beautifulsoup4 in /usr/local/lib/python3.10/dist-packages (4.12.3)\n",
            "Requirement already satisfied: pandas in /usr/local/lib/python3.10/dist-packages (2.1.4)\n",
            "Requirement already satisfied: charset-normalizer<4,>=2 in /usr/local/lib/python3.10/dist-packages (from requests) (3.3.2)\n",
            "Requirement already satisfied: idna<4,>=2.5 in /usr/local/lib/python3.10/dist-packages (from requests) (3.10)\n",
            "Requirement already satisfied: urllib3<3,>=1.21.1 in /usr/local/lib/python3.10/dist-packages (from requests) (2.0.7)\n",
            "Requirement already satisfied: certifi>=2017.4.17 in /usr/local/lib/python3.10/dist-packages (from requests) (2024.8.30)\n",
            "Requirement already satisfied: soupsieve>1.2 in /usr/local/lib/python3.10/dist-packages (from beautifulsoup4) (2.6)\n",
            "Requirement already satisfied: numpy<2,>=1.22.4 in /usr/local/lib/python3.10/dist-packages (from pandas) (1.26.4)\n",
            "Requirement already satisfied: python-dateutil>=2.8.2 in /usr/local/lib/python3.10/dist-packages (from pandas) (2.8.2)\n",
            "Requirement already satisfied: pytz>=2020.1 in /usr/local/lib/python3.10/dist-packages (from pandas) (2024.2)\n",
            "Requirement already satisfied: tzdata>=2022.1 in /usr/local/lib/python3.10/dist-packages (from pandas) (2024.1)\n",
            "Requirement already satisfied: six>=1.5 in /usr/local/lib/python3.10/dist-packages (from python-dateutil>=2.8.2->pandas) (1.16.0)\n"
          ]
        }
      ],
      "source": [
        "pip install requests beautifulsoup4 pandas\n"
      ]
    },
    {
      "cell_type": "code",
      "source": [
        "\n",
        "import requests\n",
        "from bs4 import BeautifulSoup\n",
        "import pandas as pd\n",
        "\n",
        "# URL of the webpage to scrape\n",
        "url = \"https://books.toscrape.com/catalogue/category/books/historical_42/index.html\"\n",
        "\n",
        "# Fetching the content from the URL\n",
        "response = requests.get(url)\n",
        "response.raise_for_status()  # Check if the request was successful\n",
        "\n",
        "# Parsing the content using BeautifulSoup\n",
        "soup = BeautifulSoup(response.content, \"html.parser\")\n",
        "\n",
        "# Extracting book information\n",
        "books = soup.find_all(\"article\", class_=\"product_pod\")\n",
        "\n",
        "# Creating lists to store data\n",
        "book_titles = []\n",
        "book_prices = []\n",
        "book_availabilities = []\n",
        "\n",
        "# Loop through each book and extract the required details\n",
        "for book in books:\n",
        "    # Extract book title\n",
        "    title = book.h3.a[\"title\"]\n",
        "    book_titles.append(title)\n",
        "\n",
        "    # Extract book price\n",
        "    price = book.find(\"p\", class_=\"price_color\").text\n",
        "    book_prices.append(price)\n",
        "\n",
        "    # Extract availability status\n",
        "    availability = book.find(\"p\", class_=\"instock availability\").text.strip()\n",
        "    book_availabilities.append(availability)\n",
        "\n",
        "# Creating a DataFrame to store the data\n",
        "df = pd.DataFrame({\n",
        "    \"Title\": book_titles,\n",
        "    \"Price\": book_prices,\n",
        "    \"Availability\": book_availabilities\n",
        "})\n",
        "\n",
        "# Display the DataFrame\n",
        "print(df)\n",
        "\n",
        "# If you want to save the DataFrame to a CSV file\n",
        "df.to_csv(\"books.csv\", index=False)\n"
      ],
      "metadata": {
        "colab": {
          "base_uri": "https://localhost:8080/"
        },
        "id": "A8YBjofHCzGA",
        "outputId": "f850c465-6136-47e5-82d4-a7b2977567a5"
      },
      "execution_count": 4,
      "outputs": [
        {
          "output_type": "stream",
          "name": "stdout",
          "text": [
            "                                               Title   Price Availability\n",
            "0                        All the Light We Cannot See  £29.87     In stock\n",
            "1  The Girl You Left Behind (The Girl You Left Be...  £15.79     In stock\n"
          ]
        }
      ]
    }
  ]
}